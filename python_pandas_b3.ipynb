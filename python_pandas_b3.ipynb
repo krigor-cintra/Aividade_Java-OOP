{
  "cells": [
    {
      "cell_type": "markdown",
      "metadata": {
        "id": "view-in-github",
        "colab_type": "text"
      },
      "source": [
        "<a href=\"https://colab.research.google.com/github/krigor-cintra/Aividade_Java-OOP/blob/main/python_pandas_b3.ipynb\" target=\"_parent\"><img src=\"https://colab.research.google.com/assets/colab-badge.svg\" alt=\"Open In Colab\"/></a>"
      ]
    },
    {
      "cell_type": "markdown",
      "id": "da8a68a4",
      "metadata": {
        "scrolled": true,
        "id": "da8a68a4"
      },
      "source": [
        "Importação das bibliotecas"
      ]
    },
    {
      "cell_type": "code",
      "execution_count": 16,
      "id": "ab5a0418",
      "metadata": {
        "id": "ab5a0418"
      },
      "outputs": [],
      "source": [
        "import pandas as pd\n",
        "import numpy as np\n",
        "import matplotlib.pyplot as plt\n",
        "import warnings\n",
        "warnings.simplefilter(\"ignore\")"
      ]
    },
    {
      "cell_type": "markdown",
      "id": "895fc9d5",
      "metadata": {
        "id": "895fc9d5"
      },
      "source": [
        "Criação de um df ( Dataframe) com todas as plainlhas extaidas sem duplicidades "
      ]
    },
    {
      "cell_type": "code",
      "execution_count": 10,
      "id": "35350df2",
      "metadata": {
        "id": "35350df2"
      },
      "outputs": [],
      "source": [
        "dataframe_2021 = pd.read_excel('/dataframe/movimentacao-2021-01-01-a-2021-12-31.xlsx')\n",
        "dataframe_2022 = pd.read_excel('/dataframe/movimentacao-2022-01-01-a-2022-12-31.xlsx')\n",
        "dataframe_2023 = pd.read_excel('/dataframe/movimentacao-2022-01-01-a-2022-12-31.xlsx')"
      ]
    },
    {
      "cell_type": "markdown",
      "id": "d5e7b05e",
      "metadata": {
        "id": "d5e7b05e"
      },
      "source": [
        "Arquivos"
      ]
    },
    {
      "cell_type": "code",
      "execution_count": 18,
      "id": "c6333eb1",
      "metadata": {
        "id": "c6333eb1"
      },
      "outputs": [],
      "source": [
        "df = pd.concat([dataframe_2021, dataframe_2022, dataframe_2023], axis=0, ignore_index=True, verify_integrity=True)\n",
        "df=df.drop_duplicates() ##Forma de eliminar duplicadas, simples levando em consideração a quantidade de dados\n",
        "df.to_excel('dataframme.xlsx', index=False) #transformando em excel o dataframe criado ( junção dos 3 df extraidos da b3)"
      ]
    },
    {
      "cell_type": "markdown",
      "id": "cd345e39",
      "metadata": {
        "id": "cd345e39"
      },
      "source": [
        "Criando uma nova column apartir da coluna produto, para obter o papel da ação"
      ]
    },
    {
      "cell_type": "code",
      "execution_count": 19,
      "id": "359d4b65",
      "metadata": {
        "id": "359d4b65"
      },
      "outputs": [],
      "source": [
        "df[\"Código\"]= df[\"Produto\"].str.split(\" \").str.get(0) \n",
        "#Utilizando a coluna produto, na qual tem o codigo do papale e nome obtive uma coluna com somente o codigo\n"
      ]
    },
    {
      "cell_type": "markdown",
      "id": "d402dcba",
      "metadata": {
        "id": "d402dcba"
      },
      "source": [
        "Criação de uma dataframe que contem todos os recebimentos ( jpc, dividendo, rendimento)"
      ]
    },
    {
      "cell_type": "code",
      "execution_count": 20,
      "id": "49e3f23d",
      "metadata": {
        "id": "49e3f23d"
      },
      "outputs": [],
      "source": [
        "df_recebimento= df[(df[\"Movimentação\"] ==\"Juros Sobre Capital Próprio\") | (df[\"Movimentação\"] ==\"Dividendo\") | (df[\"Movimentação\"] ==\"Rendimento\")]"
      ]
    },
    {
      "cell_type": "code",
      "execution_count": 28,
      "id": "e72ec8e9",
      "metadata": {
        "id": "e72ec8e9",
        "colab": {
          "base_uri": "https://localhost:8080/",
          "height": 282
        },
        "outputId": "824b6636-df99-412c-a835-181951a30265"
      },
      "outputs": [
        {
          "output_type": "execute_result",
          "data": {
            "text/plain": [
              "<matplotlib.axes._subplots.AxesSubplot at 0x7fb7de9b3370>"
            ]
          },
          "metadata": {},
          "execution_count": 28
        },
        {
          "output_type": "display_data",
          "data": {
            "text/plain": [
              "<Figure size 432x288 with 1 Axes>"
            ],
            "image/png": "[encoded data removed]"
          },
          "metadata": {
            "needs_background": "light"
          }
        }
      ],
      "source": [
        "df_recebimento.plot()"
      ]
    },
    {
      "cell_type": "code",
      "execution_count": 37,
      "id": "b5f4a542",
      "metadata": {
        "id": "b5f4a542",
        "colab": {
          "base_uri": "https://localhost:8080/",
          "height": 354
        },
        "outputId": "3eb12fd7-9faa-46b7-820d-499c29ed85b1"
      },
      "outputs": [
        {
          "output_type": "execute_result",
          "data": {
            "text/plain": [
              "  Entrada/Saída        Data Movimentação  \\\n",
              "1       Credito  29/12/2022    Dividendo   \n",
              "2       Credito  26/12/2022   Rendimento   \n",
              "3       Credito  20/12/2022   Rendimento   \n",
              "4       Credito  16/12/2022   Rendimento   \n",
              "5       Credito  15/12/2022    Dividendo   \n",
              "\n",
              "                                           Produto  \\\n",
              "1                             B3SA3 - B3             \n",
              "2  MORC11 - MORE RECEBIVEIS IMOBILIARIOS FII - FII   \n",
              "3            MORE11 - MORE REAL ESTATE FOF FII FII   \n",
              "4     IRDM11 - FII IRIDIUM RECEBIVEIS IMOBILIARIOS   \n",
              "5                              RAIZ4 - RAIZEN S.A.   \n",
              "\n",
              "                                         Instituição  Quantidade  \\\n",
              "1  INTER DISTRIBUIDORA DE TITULOS E VALORES MOBIL...       112.0   \n",
              "2  INTER DISTRIBUIDORA DE TITULOS E VALORES MOBIL...        17.0   \n",
              "3  INTER DISTRIBUIDORA DE TITULOS E VALORES MOBIL...         1.0   \n",
              "4  INTER DISTRIBUIDORA DE TITULOS E VALORES MOBIL...        16.0   \n",
              "5  INTER DISTRIBUIDORA DE TITULOS E VALORES MOBIL...        10.0   \n",
              "\n",
              "  Preço unitário Valor da Operação  Código  \n",
              "1           0.02              2.71   B3SA3  \n",
              "2            1.1              18.7  MORC11  \n",
              "3            0.6               0.6  MORE11  \n",
              "4            0.7             11.22  IRDM11  \n",
              "5           0.09              0.89   RAIZ4  "
            ],
            "text/html": [
              "\n",
              "  <div id=\"df-31390eb7-e400-4fe8-84e5-9ff2a4d9957d\">\n",
              "    <div class=\"colab-df-container\">\n",
              "      <div>\n",
              "<style scoped>\n",
              "    .dataframe tbody tr th:only-of-type {\n",
              "        vertical-align: middle;\n",
              "    }\n",
              "\n",
              "    .dataframe tbody tr th {\n",
              "        vertical-align: top;\n",
              "    }\n",
              "\n",
              "    .dataframe thead th {\n",
              "        text-align: right;\n",
              "    }\n",
              "</style>\n",
              "<table border=\"1\" class=\"dataframe\">\n",
              "  <thead>\n",
              "    <tr style=\"text-align: right;\">\n",
              "      <th></th>\n",
              "      <th>Entrada/Saída</th>\n",
              "      <th>Data</th>\n",
              "      <th>Movimentação</th>\n",
              "      <th>Produto</th>\n",
              "      <th>Instituição</th>\n",
              "      <th>Quantidade</th>\n",
              "      <th>Preço unitário</th>\n",
              "      <th>Valor da Operação</th>\n",
              "      <th>Código</th>\n",
              "    </tr>\n",
              "  </thead>\n",
              "  <tbody>\n",
              "    <tr>\n",
              "      <th>1</th>\n",
              "      <td>Credito</td>\n",
              "      <td>29/12/2022</td>\n",
              "      <td>Dividendo</td>\n",
              "      <td>B3SA3 - B3</td>\n",
              "      <td>INTER DISTRIBUIDORA DE TITULOS E VALORES MOBIL...</td>\n",
              "      <td>112.0</td>\n",
              "      <td>0.02</td>\n",
              "      <td>2.71</td>\n",
              "      <td>B3SA3</td>\n",
              "    </tr>\n",
              "    <tr>\n",
              "      <th>2</th>\n",
              "      <td>Credito</td>\n",
              "      <td>26/12/2022</td>\n",
              "      <td>Rendimento</td>\n",
              "      <td>MORC11 - MORE RECEBIVEIS IMOBILIARIOS FII - FII</td>\n",
              "      <td>INTER DISTRIBUIDORA DE TITULOS E VALORES MOBIL...</td>\n",
              "      <td>17.0</td>\n",
              "      <td>1.1</td>\n",
              "      <td>18.7</td>\n",
              "      <td>MORC11</td>\n",
              "    </tr>\n",
              "    <tr>\n",
              "      <th>3</th>\n",
              "      <td>Credito</td>\n",
              "      <td>20/12/2022</td>\n",
              "      <td>Rendimento</td>\n",
              "      <td>MORE11 - MORE REAL ESTATE FOF FII FII</td>\n",
              "      <td>INTER DISTRIBUIDORA DE TITULOS E VALORES MOBIL...</td>\n",
              "      <td>1.0</td>\n",
              "      <td>0.6</td>\n",
              "      <td>0.6</td>\n",
              "      <td>MORE11</td>\n",
              "    </tr>\n",
              "    <tr>\n",
              "      <th>4</th>\n",
              "      <td>Credito</td>\n",
              "      <td>16/12/2022</td>\n",
              "      <td>Rendimento</td>\n",
              "      <td>IRDM11 - FII IRIDIUM RECEBIVEIS IMOBILIARIOS</td>\n",
              "      <td>INTER DISTRIBUIDORA DE TITULOS E VALORES MOBIL...</td>\n",
              "      <td>16.0</td>\n",
              "      <td>0.7</td>\n",
              "      <td>11.22</td>\n",
              "      <td>IRDM11</td>\n",
              "    </tr>\n",
              "    <tr>\n",
              "      <th>5</th>\n",
              "      <td>Credito</td>\n",
              "      <td>15/12/2022</td>\n",
              "      <td>Dividendo</td>\n",
              "      <td>RAIZ4 - RAIZEN S.A.</td>\n",
              "      <td>INTER DISTRIBUIDORA DE TITULOS E VALORES MOBIL...</td>\n",
              "      <td>10.0</td>\n",
              "      <td>0.09</td>\n",
              "      <td>0.89</td>\n",
              "      <td>RAIZ4</td>\n",
              "    </tr>\n",
              "  </tbody>\n",
              "</table>\n",
              "</div>\n",
              "      <button class=\"colab-df-convert\" onclick=\"convertToInteractive('df-31390eb7-e400-4fe8-84e5-9ff2a4d9957d')\"\n",
              "              title=\"Convert this dataframe to an interactive table.\"\n",
              "              style=\"display:none;\">\n",
              "        \n",
              "  <svg xmlns=\"http://www.w3.org/2000/svg\" height=\"24px\"viewBox=\"0 0 24 24\"\n",
              "       width=\"24px\">\n",
              "    <path d=\"M0 0h24v24H0V0z\" fill=\"none\"/>\n",
              "    <path d=\"M18.56 5.44l.94 2.06.94-2.06 2.06-.94-2.06-.94-.94-2.06-.94 2.06-2.06.94zm-11 1L8.5 8.5l.94-2.06 2.06-.94-2.06-.94L8.5 2.5l-.94 2.06-2.06.94zm10 10l.94 2.06.94-2.06 2.06-.94-2.06-.94-.94-2.06-.94 2.06-2.06.94z\"/><path d=\"M17.41 7.96l-1.37-1.37c-.4-.4-.92-.59-1.43-.59-.52 0-1.04.2-1.43.59L10.3 9.45l-7.72 7.72c-.78.78-.78 2.05 0 2.83L4 21.41c.39.39.9.59 1.41.59.51 0 1.02-.2 1.41-.59l7.78-7.78 2.81-2.81c.8-.78.8-2.07 0-2.86zM5.41 20L4 18.59l7.72-7.72 1.47 1.35L5.41 20z\"/>\n",
              "  </svg>\n",
              "      </button>\n",
              "      \n",
              "  <style>\n",
              "    .colab-df-container {\n",
              "      display:flex;\n",
              "      flex-wrap:wrap;\n",
              "      gap: 12px;\n",
              "    }\n",
              "\n",
              "    .colab-df-convert {\n",
              "      background-color: #E8F0FE;\n",
              "      border: none;\n",
              "      border-radius: 50%;\n",
              "      cursor: pointer;\n",
              "      display: none;\n",
              "      fill: #1967D2;\n",
              "      height: 32px;\n",
              "      padding: 0 0 0 0;\n",
              "      width: 32px;\n",
              "    }\n",
              "\n",
              "    .colab-df-convert:hover {\n",
              "      background-color: #E2EBFA;\n",
              "      box-shadow: 0px 1px 2px rgba(60, 64, 67, 0.3), 0px 1px 3px 1px rgba(60, 64, 67, 0.15);\n",
              "      fill: #174EA6;\n",
              "    }\n",
              "\n",
              "    [theme=dark] .colab-df-convert {\n",
              "      background-color: #3B4455;\n",
              "      fill: #D2E3FC;\n",
              "    }\n",
              "\n",
              "    [theme=dark] .colab-df-convert:hover {\n",
              "      background-color: #434B5C;\n",
              "      box-shadow: 0px 1px 3px 1px rgba(0, 0, 0, 0.15);\n",
              "      filter: drop-shadow(0px 1px 2px rgba(0, 0, 0, 0.3));\n",
              "      fill: #FFFFFF;\n",
              "    }\n",
              "  </style>\n",
              "\n",
              "      <script>\n",
              "        const buttonEl =\n",
              "          document.querySelector('#df-31390eb7-e400-4fe8-84e5-9ff2a4d9957d button.colab-df-convert');\n",
              "        buttonEl.style.display =\n",
              "          google.colab.kernel.accessAllowed ? 'block' : 'none';\n",
              "\n",
              "        async function convertToInteractive(key) {\n",
              "          const element = document.querySelector('#df-31390eb7-e400-4fe8-84e5-9ff2a4d9957d');\n",
              "          const dataTable =\n",
              "            await google.colab.kernel.invokeFunction('convertToInteractive',\n",
              "                                                     [key], {});\n",
              "          if (!dataTable) return;\n",
              "\n",
              "          const docLinkHtml = 'Like what you see? Visit the ' +\n",
              "            '<a target=\"_blank\" href=https://colab.research.google.com/notebooks/data_table.ipynb>data table notebook</a>'\n",
              "            + ' to learn more about interactive tables.';\n",
              "          element.innerHTML = '';\n",
              "          dataTable['output_type'] = 'display_data';\n",
              "          await google.colab.output.renderOutput(dataTable, element);\n",
              "          const docLink = document.createElement('div');\n",
              "          docLink.innerHTML = docLinkHtml;\n",
              "          element.appendChild(docLink);\n",
              "        }\n",
              "      </script>\n",
              "    </div>\n",
              "  </div>\n",
              "  "
            ]
          },
          "metadata": {},
          "execution_count": 37
        }
      ],
      "source": [
        "df_recebimento.head()"
      ]
    },
    {
      "cell_type": "code",
      "execution_count": 53,
      "id": "5e118222",
      "metadata": {
        "id": "5e118222",
        "colab": {
          "base_uri": "https://localhost:8080/",
          "height": 296
        },
        "outputId": "952a41cc-b31f-4404-86f8-aeceffbb9a8e"
      },
      "outputs": [
        {
          "output_type": "execute_result",
          "data": {
            "text/plain": [
              "<matplotlib.axes._subplots.AxesSubplot at 0x7fb7dddaf310>"
            ]
          },
          "metadata": {},
          "execution_count": 53
        },
        {
          "output_type": "display_data",
          "data": {
            "text/plain": [
              "<Figure size 432x288 with 1 Axes>"
            ],
            "image/png": "[encoded data removed]"
          },
          "metadata": {
            "needs_background": "light"
          }
        }
      ],
      "source": [
        "df_recebimento.plot.scatter(y=\"Código\", x=\"Valor da Operação\", alpha=1)"
      ]
    },
    {
      "cell_type": "code",
      "execution_count": null,
      "id": "a89901e8",
      "metadata": {
        "id": "a89901e8"
      },
      "outputs": [],
      "source": [
        "df[(df[\"Código\"].str.len() >=6) & (df[\"Movimentação\"] != \"Rendimento\") & (df[\"Movimentação\"] !=  \"Dividendo\")]"
      ]
    }
  ],
  "metadata": {
    "kernelspec": {
      "display_name": "Python 3 (ipykernel)",
      "language": "python",
      "name": "python3"
    },
    "language_info": {
      "codemirror_mode": {
        "name": "ipython",
        "version": 3
      },
      "file_extension": ".py",
      "mimetype": "text/x-python",
      "name": "python",
      "nbconvert_exporter": "python",
      "pygments_lexer": "ipython3",
      "version": "3.9.12"
    },
    "colab": {
      "provenance": [],
      "include_colab_link": true
    }
  },
  "nbformat": 4,
  "nbformat_minor": 5
}